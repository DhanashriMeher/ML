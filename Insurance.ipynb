{
 "cells": [
  {
   "cell_type": "code",
   "execution_count": 37,
   "id": "27771b8a",
   "metadata": {},
   "outputs": [],
   "source": [
    "import pandas as pd\n",
    "import numpy as np"
   ]
  },
  {
   "cell_type": "code",
   "execution_count": 2,
   "id": "7a62b4bb",
   "metadata": {},
   "outputs": [
    {
     "data": {
      "text/html": [
       "<div>\n",
       "<style scoped>\n",
       "    .dataframe tbody tr th:only-of-type {\n",
       "        vertical-align: middle;\n",
       "    }\n",
       "\n",
       "    .dataframe tbody tr th {\n",
       "        vertical-align: top;\n",
       "    }\n",
       "\n",
       "    .dataframe thead th {\n",
       "        text-align: right;\n",
       "    }\n",
       "</style>\n",
       "<table border=\"1\" class=\"dataframe\">\n",
       "  <thead>\n",
       "    <tr style=\"text-align: right;\">\n",
       "      <th></th>\n",
       "      <th>age</th>\n",
       "      <th>sex</th>\n",
       "      <th>bmi</th>\n",
       "      <th>children</th>\n",
       "      <th>smoker</th>\n",
       "      <th>region</th>\n",
       "      <th>charges</th>\n",
       "    </tr>\n",
       "  </thead>\n",
       "  <tbody>\n",
       "    <tr>\n",
       "      <th>0</th>\n",
       "      <td>19</td>\n",
       "      <td>female</td>\n",
       "      <td>27.90</td>\n",
       "      <td>0</td>\n",
       "      <td>yes</td>\n",
       "      <td>southwest</td>\n",
       "      <td>16884.9240</td>\n",
       "    </tr>\n",
       "    <tr>\n",
       "      <th>1</th>\n",
       "      <td>18</td>\n",
       "      <td>male</td>\n",
       "      <td>33.77</td>\n",
       "      <td>1</td>\n",
       "      <td>no</td>\n",
       "      <td>southeast</td>\n",
       "      <td>1725.5523</td>\n",
       "    </tr>\n",
       "    <tr>\n",
       "      <th>2</th>\n",
       "      <td>28</td>\n",
       "      <td>male</td>\n",
       "      <td>33.00</td>\n",
       "      <td>3</td>\n",
       "      <td>no</td>\n",
       "      <td>southeast</td>\n",
       "      <td>4449.4620</td>\n",
       "    </tr>\n",
       "  </tbody>\n",
       "</table>\n",
       "</div>"
      ],
      "text/plain": [
       "   age     sex    bmi  children smoker     region     charges\n",
       "0   19  female  27.90         0    yes  southwest  16884.9240\n",
       "1   18    male  33.77         1     no  southeast   1725.5523\n",
       "2   28    male  33.00         3     no  southeast   4449.4620"
      ]
     },
     "execution_count": 2,
     "metadata": {},
     "output_type": "execute_result"
    }
   ],
   "source": [
    "df = pd.read_csv('insurance.csv')\n",
    "df.head(3)"
   ]
  },
  {
   "cell_type": "code",
   "execution_count": 3,
   "id": "488c1e0b",
   "metadata": {},
   "outputs": [
    {
     "data": {
      "text/plain": [
       "(1338, 7)"
      ]
     },
     "execution_count": 3,
     "metadata": {},
     "output_type": "execute_result"
    }
   ],
   "source": [
    "df.shape"
   ]
  },
  {
   "cell_type": "code",
   "execution_count": 4,
   "id": "104cfdd6",
   "metadata": {},
   "outputs": [
    {
     "data": {
      "text/plain": [
       "0       16884.92400\n",
       "1        1725.55230\n",
       "2        4449.46200\n",
       "3       21984.47061\n",
       "4        3866.85520\n",
       "           ...     \n",
       "1333    10600.54830\n",
       "1334     2205.98080\n",
       "1335     1629.83350\n",
       "1336     2007.94500\n",
       "1337    29141.36030\n",
       "Name: charges, Length: 1338, dtype: float64"
      ]
     },
     "execution_count": 4,
     "metadata": {},
     "output_type": "execute_result"
    }
   ],
   "source": [
    "df['charges']"
   ]
  },
  {
   "cell_type": "code",
   "execution_count": 5,
   "id": "5a5b6623",
   "metadata": {},
   "outputs": [
    {
     "data": {
      "text/plain": [
       "age         0\n",
       "sex         0\n",
       "bmi         0\n",
       "children    0\n",
       "smoker      0\n",
       "region      0\n",
       "charges     0\n",
       "dtype: int64"
      ]
     },
     "execution_count": 5,
     "metadata": {},
     "output_type": "execute_result"
    }
   ],
   "source": [
    "df.isna().sum()"
   ]
  },
  {
   "cell_type": "code",
   "execution_count": 6,
   "id": "c8351382",
   "metadata": {},
   "outputs": [],
   "source": [
    "#convert category to numeric\n",
    "df['sex'] =df['sex'].map({'female':0,'male':1})\n",
    "df['smoker']=df['smoker'].map({'no':0,'yes':1})\n",
    "df['region']=df['region'].map({'southwest':0, 'southeast':1, 'northwest':2, 'northeast':3})"
   ]
  },
  {
   "cell_type": "code",
   "execution_count": 8,
   "id": "f8d5284d",
   "metadata": {},
   "outputs": [
    {
     "data": {
      "text/html": [
       "<div>\n",
       "<style scoped>\n",
       "    .dataframe tbody tr th:only-of-type {\n",
       "        vertical-align: middle;\n",
       "    }\n",
       "\n",
       "    .dataframe tbody tr th {\n",
       "        vertical-align: top;\n",
       "    }\n",
       "\n",
       "    .dataframe thead th {\n",
       "        text-align: right;\n",
       "    }\n",
       "</style>\n",
       "<table border=\"1\" class=\"dataframe\">\n",
       "  <thead>\n",
       "    <tr style=\"text-align: right;\">\n",
       "      <th></th>\n",
       "      <th>age</th>\n",
       "      <th>sex</th>\n",
       "      <th>bmi</th>\n",
       "      <th>children</th>\n",
       "      <th>smoker</th>\n",
       "      <th>region</th>\n",
       "      <th>charges</th>\n",
       "    </tr>\n",
       "  </thead>\n",
       "  <tbody>\n",
       "    <tr>\n",
       "      <th>0</th>\n",
       "      <td>19</td>\n",
       "      <td>0</td>\n",
       "      <td>27.90</td>\n",
       "      <td>0</td>\n",
       "      <td>1</td>\n",
       "      <td>0</td>\n",
       "      <td>16884.9240</td>\n",
       "    </tr>\n",
       "    <tr>\n",
       "      <th>1</th>\n",
       "      <td>18</td>\n",
       "      <td>1</td>\n",
       "      <td>33.77</td>\n",
       "      <td>1</td>\n",
       "      <td>0</td>\n",
       "      <td>1</td>\n",
       "      <td>1725.5523</td>\n",
       "    </tr>\n",
       "  </tbody>\n",
       "</table>\n",
       "</div>"
      ],
      "text/plain": [
       "   age  sex    bmi  children  smoker  region     charges\n",
       "0   19    0  27.90         0       1       0  16884.9240\n",
       "1   18    1  33.77         1       0       1   1725.5523"
      ]
     },
     "execution_count": 8,
     "metadata": {},
     "output_type": "execute_result"
    }
   ],
   "source": [
    "df[:2]"
   ]
  },
  {
   "cell_type": "code",
   "execution_count": 9,
   "id": "a683cc2d",
   "metadata": {},
   "outputs": [
    {
     "data": {
      "text/plain": [
       "<matplotlib.collections.PathCollection at 0x22ef678dc10>"
      ]
     },
     "execution_count": 9,
     "metadata": {},
     "output_type": "execute_result"
    },
    {
     "data": {
      "image/png": "[encoded data removed]",
      "text/plain": [
       "<Figure size 640x480 with 1 Axes>"
      ]
     },
     "metadata": {},
     "output_type": "display_data"
    }
   ],
   "source": [
    "import matplotlib.pyplot as plt\n",
    "plt.scatter(df.age,df.charges)"
   ]
  },
  {
   "cell_type": "code",
   "execution_count": 11,
   "id": "8c8153c0",
   "metadata": {},
   "outputs": [
    {
     "data": {
      "text/plain": [
       "<AxesSubplot:>"
      ]
     },
     "execution_count": 11,
     "metadata": {},
     "output_type": "execute_result"
    },
    {
     "data": {
      "image/png": "[encoded data removed]",
      "text/plain": [
       "<Figure size 640x480 with 1 Axes>"
      ]
     },
     "metadata": {},
     "output_type": "display_data"
    }
   ],
   "source": [
    "df.plot(kind='box')"
   ]
  },
  {
   "cell_type": "code",
   "execution_count": 12,
   "id": "2f51d5e0",
   "metadata": {},
   "outputs": [
    {
     "data": {
      "text/html": [
       "<div>\n",
       "<style scoped>\n",
       "    .dataframe tbody tr th:only-of-type {\n",
       "        vertical-align: middle;\n",
       "    }\n",
       "\n",
       "    .dataframe tbody tr th {\n",
       "        vertical-align: top;\n",
       "    }\n",
       "\n",
       "    .dataframe thead th {\n",
       "        text-align: right;\n",
       "    }\n",
       "</style>\n",
       "<table border=\"1\" class=\"dataframe\">\n",
       "  <thead>\n",
       "    <tr style=\"text-align: right;\">\n",
       "      <th></th>\n",
       "      <th>count</th>\n",
       "      <th>mean</th>\n",
       "      <th>std</th>\n",
       "      <th>min</th>\n",
       "      <th>25%</th>\n",
       "      <th>50%</th>\n",
       "      <th>75%</th>\n",
       "      <th>max</th>\n",
       "    </tr>\n",
       "  </thead>\n",
       "  <tbody>\n",
       "    <tr>\n",
       "      <th>age</th>\n",
       "      <td>1338.0</td>\n",
       "      <td>39.207025</td>\n",
       "      <td>14.049960</td>\n",
       "      <td>18.0000</td>\n",
       "      <td>27.00000</td>\n",
       "      <td>39.000</td>\n",
       "      <td>51.000000</td>\n",
       "      <td>64.00000</td>\n",
       "    </tr>\n",
       "    <tr>\n",
       "      <th>sex</th>\n",
       "      <td>1338.0</td>\n",
       "      <td>0.505232</td>\n",
       "      <td>0.500160</td>\n",
       "      <td>0.0000</td>\n",
       "      <td>0.00000</td>\n",
       "      <td>1.000</td>\n",
       "      <td>1.000000</td>\n",
       "      <td>1.00000</td>\n",
       "    </tr>\n",
       "    <tr>\n",
       "      <th>bmi</th>\n",
       "      <td>1338.0</td>\n",
       "      <td>30.663397</td>\n",
       "      <td>6.098187</td>\n",
       "      <td>15.9600</td>\n",
       "      <td>26.29625</td>\n",
       "      <td>30.400</td>\n",
       "      <td>34.693750</td>\n",
       "      <td>53.13000</td>\n",
       "    </tr>\n",
       "    <tr>\n",
       "      <th>children</th>\n",
       "      <td>1338.0</td>\n",
       "      <td>1.094918</td>\n",
       "      <td>1.205493</td>\n",
       "      <td>0.0000</td>\n",
       "      <td>0.00000</td>\n",
       "      <td>1.000</td>\n",
       "      <td>2.000000</td>\n",
       "      <td>5.00000</td>\n",
       "    </tr>\n",
       "    <tr>\n",
       "      <th>smoker</th>\n",
       "      <td>1338.0</td>\n",
       "      <td>0.204783</td>\n",
       "      <td>0.403694</td>\n",
       "      <td>0.0000</td>\n",
       "      <td>0.00000</td>\n",
       "      <td>0.000</td>\n",
       "      <td>0.000000</td>\n",
       "      <td>1.00000</td>\n",
       "    </tr>\n",
       "    <tr>\n",
       "      <th>region</th>\n",
       "      <td>1338.0</td>\n",
       "      <td>1.484305</td>\n",
       "      <td>1.104885</td>\n",
       "      <td>0.0000</td>\n",
       "      <td>1.00000</td>\n",
       "      <td>1.000</td>\n",
       "      <td>2.000000</td>\n",
       "      <td>3.00000</td>\n",
       "    </tr>\n",
       "    <tr>\n",
       "      <th>charges</th>\n",
       "      <td>1338.0</td>\n",
       "      <td>13270.422265</td>\n",
       "      <td>12110.011237</td>\n",
       "      <td>1121.8739</td>\n",
       "      <td>4740.28715</td>\n",
       "      <td>9382.033</td>\n",
       "      <td>16639.912515</td>\n",
       "      <td>63770.42801</td>\n",
       "    </tr>\n",
       "  </tbody>\n",
       "</table>\n",
       "</div>"
      ],
      "text/plain": [
       "           count          mean           std        min         25%       50%  \\\n",
       "age       1338.0     39.207025     14.049960    18.0000    27.00000    39.000   \n",
       "sex       1338.0      0.505232      0.500160     0.0000     0.00000     1.000   \n",
       "bmi       1338.0     30.663397      6.098187    15.9600    26.29625    30.400   \n",
       "children  1338.0      1.094918      1.205493     0.0000     0.00000     1.000   \n",
       "smoker    1338.0      0.204783      0.403694     0.0000     0.00000     0.000   \n",
       "region    1338.0      1.484305      1.104885     0.0000     1.00000     1.000   \n",
       "charges   1338.0  13270.422265  12110.011237  1121.8739  4740.28715  9382.033   \n",
       "\n",
       "                   75%          max  \n",
       "age          51.000000     64.00000  \n",
       "sex           1.000000      1.00000  \n",
       "bmi          34.693750     53.13000  \n",
       "children      2.000000      5.00000  \n",
       "smoker        0.000000      1.00000  \n",
       "region        2.000000      3.00000  \n",
       "charges   16639.912515  63770.42801  "
      ]
     },
     "execution_count": 12,
     "metadata": {},
     "output_type": "execute_result"
    }
   ],
   "source": [
    "df.describe().T"
   ]
  },
  {
   "cell_type": "code",
   "execution_count": 13,
   "id": "d28590d0",
   "metadata": {},
   "outputs": [
    {
     "data": {
      "text/plain": [
       "Index(['age', 'sex', 'bmi', 'children', 'smoker', 'region', 'charges'], dtype='object')"
      ]
     },
     "execution_count": 13,
     "metadata": {},
     "output_type": "execute_result"
    }
   ],
   "source": [
    "df.columns"
   ]
  },
  {
   "cell_type": "code",
   "execution_count": 14,
   "id": "8e6f11ea",
   "metadata": {},
   "outputs": [],
   "source": [
    "from scipy import stats\n",
    "\n",
    "# Assuming df is your DataFrame\n",
    "# Create a new DataFrame to store data without outliers\n",
    "new_df =df.copy()\n",
    "\n",
    "#define columns containing numerical data\n",
    "numerical_columns =['age','bmi','children','charges']\n",
    "\n",
    "#In machine learning, a Z-score is a way to standardize data to a standard scale. \n",
    "#It's a statistical measure that can be used to detect and remove outliers. \n",
    "\n",
    "#calculate z-scores for numerical columns\n",
    "z_scores =stats.zscore(df[numerical_columns])\n",
    "\n",
    "# Define a threshold for outlier detection (e.g., z-score > 3 or < -3)\n",
    "threshold =3\n",
    "\n",
    "#find and remove rows with outliers\n",
    "outlier_indices = (z_scores > threshold).any(axis = 1)\n",
    "new_df = new_df[~outlier_indices]\n",
    "\n",
    "#Reset index of the new DataFrame\n",
    "new_df.reset_index(drop =True,inplace =True)\n"
   ]
  },
  {
   "cell_type": "code",
   "execution_count": 15,
   "id": "aaad8567",
   "metadata": {},
   "outputs": [
    {
     "data": {
      "text/html": [
       "<div>\n",
       "<style scoped>\n",
       "    .dataframe tbody tr th:only-of-type {\n",
       "        vertical-align: middle;\n",
       "    }\n",
       "\n",
       "    .dataframe tbody tr th {\n",
       "        vertical-align: top;\n",
       "    }\n",
       "\n",
       "    .dataframe thead th {\n",
       "        text-align: right;\n",
       "    }\n",
       "</style>\n",
       "<table border=\"1\" class=\"dataframe\">\n",
       "  <thead>\n",
       "    <tr style=\"text-align: right;\">\n",
       "      <th></th>\n",
       "      <th>age</th>\n",
       "      <th>sex</th>\n",
       "      <th>bmi</th>\n",
       "      <th>children</th>\n",
       "      <th>smoker</th>\n",
       "      <th>region</th>\n",
       "      <th>charges</th>\n",
       "    </tr>\n",
       "  </thead>\n",
       "  <tbody>\n",
       "    <tr>\n",
       "      <th>0</th>\n",
       "      <td>19</td>\n",
       "      <td>0</td>\n",
       "      <td>27.90</td>\n",
       "      <td>0</td>\n",
       "      <td>1</td>\n",
       "      <td>0</td>\n",
       "      <td>16884.9240</td>\n",
       "    </tr>\n",
       "    <tr>\n",
       "      <th>1</th>\n",
       "      <td>18</td>\n",
       "      <td>1</td>\n",
       "      <td>33.77</td>\n",
       "      <td>1</td>\n",
       "      <td>0</td>\n",
       "      <td>1</td>\n",
       "      <td>1725.5523</td>\n",
       "    </tr>\n",
       "  </tbody>\n",
       "</table>\n",
       "</div>"
      ],
      "text/plain": [
       "   age  sex    bmi  children  smoker  region     charges\n",
       "0   19    0  27.90         0       1       0  16884.9240\n",
       "1   18    1  33.77         1       0       1   1725.5523"
      ]
     },
     "execution_count": 15,
     "metadata": {},
     "output_type": "execute_result"
    }
   ],
   "source": [
    "new_df.head(2)"
   ]
  },
  {
   "cell_type": "code",
   "execution_count": 16,
   "id": "f42c07d0",
   "metadata": {},
   "outputs": [
    {
     "data": {
      "text/plain": [
       "(1309, 7)"
      ]
     },
     "execution_count": 16,
     "metadata": {},
     "output_type": "execute_result"
    }
   ],
   "source": [
    "new_df.shape"
   ]
  },
  {
   "cell_type": "code",
   "execution_count": 17,
   "id": "aa01a24f",
   "metadata": {},
   "outputs": [
    {
     "data": {
      "text/plain": [
       "<AxesSubplot:>"
      ]
     },
     "execution_count": 17,
     "metadata": {},
     "output_type": "execute_result"
    },
    {
     "data": {
      "image/png": "[encoded data removed]",
      "text/plain": [
       "<Figure size 640x480 with 1 Axes>"
      ]
     },
     "metadata": {},
     "output_type": "display_data"
    }
   ],
   "source": [
    "new_df.plot(kind ='box')"
   ]
  },
  {
   "cell_type": "code",
   "execution_count": 18,
   "id": "6048c8eb",
   "metadata": {},
   "outputs": [
    {
     "data": {
      "text/html": [
       "<div>\n",
       "<style scoped>\n",
       "    .dataframe tbody tr th:only-of-type {\n",
       "        vertical-align: middle;\n",
       "    }\n",
       "\n",
       "    .dataframe tbody tr th {\n",
       "        vertical-align: top;\n",
       "    }\n",
       "\n",
       "    .dataframe thead th {\n",
       "        text-align: right;\n",
       "    }\n",
       "</style>\n",
       "<table border=\"1\" class=\"dataframe\">\n",
       "  <thead>\n",
       "    <tr style=\"text-align: right;\">\n",
       "      <th></th>\n",
       "      <th>age</th>\n",
       "      <th>sex</th>\n",
       "      <th>bmi</th>\n",
       "      <th>children</th>\n",
       "      <th>smoker</th>\n",
       "      <th>region</th>\n",
       "    </tr>\n",
       "  </thead>\n",
       "  <tbody>\n",
       "    <tr>\n",
       "      <th>0</th>\n",
       "      <td>19</td>\n",
       "      <td>0</td>\n",
       "      <td>27.90</td>\n",
       "      <td>0</td>\n",
       "      <td>1</td>\n",
       "      <td>0</td>\n",
       "    </tr>\n",
       "    <tr>\n",
       "      <th>1</th>\n",
       "      <td>18</td>\n",
       "      <td>1</td>\n",
       "      <td>33.77</td>\n",
       "      <td>1</td>\n",
       "      <td>0</td>\n",
       "      <td>1</td>\n",
       "    </tr>\n",
       "  </tbody>\n",
       "</table>\n",
       "</div>"
      ],
      "text/plain": [
       "   age  sex    bmi  children  smoker  region\n",
       "0   19    0  27.90         0       1       0\n",
       "1   18    1  33.77         1       0       1"
      ]
     },
     "execution_count": 18,
     "metadata": {},
     "output_type": "execute_result"
    }
   ],
   "source": [
    "#split data\n",
    "X = new_df.iloc[:,:-1]\n",
    "X[:2]"
   ]
  },
  {
   "cell_type": "code",
   "execution_count": 19,
   "id": "e10eb1ac",
   "metadata": {},
   "outputs": [
    {
     "data": {
      "text/plain": [
       "0    16884.9240\n",
       "1     1725.5523\n",
       "Name: charges, dtype: float64"
      ]
     },
     "execution_count": 19,
     "metadata": {},
     "output_type": "execute_result"
    }
   ],
   "source": [
    "y=new_df['charges']\n",
    "y[:2]"
   ]
  },
  {
   "cell_type": "code",
   "execution_count": 20,
   "id": "0c27dc7b",
   "metadata": {},
   "outputs": [],
   "source": [
    "from sklearn.model_selection import train_test_split"
   ]
  },
  {
   "cell_type": "code",
   "execution_count": 22,
   "id": "f726be61",
   "metadata": {},
   "outputs": [],
   "source": [
    "X_train,X_test,y_train,y_test = train_test_split(X,y,test_size =.2)"
   ]
  },
  {
   "cell_type": "code",
   "execution_count": 23,
   "id": "989fc1da",
   "metadata": {},
   "outputs": [],
   "source": [
    "#Create a model\n",
    "from sklearn.linear_model import LinearRegression\n",
    "model = LinearRegression()"
   ]
  },
  {
   "cell_type": "code",
   "execution_count": 24,
   "id": "b1636c6e",
   "metadata": {},
   "outputs": [
    {
     "data": {
      "text/plain": [
       "LinearRegression()"
      ]
     },
     "execution_count": 24,
     "metadata": {},
     "output_type": "execute_result"
    }
   ],
   "source": [
    "model.fit(X_train,y_train)"
   ]
  },
  {
   "cell_type": "code",
   "execution_count": 26,
   "id": "095a4e89",
   "metadata": {},
   "outputs": [
    {
     "data": {
      "text/plain": [
       "0.7532556727313029"
      ]
     },
     "execution_count": 26,
     "metadata": {},
     "output_type": "execute_result"
    }
   ],
   "source": [
    "model.score(X_train,y_train) #check good score of data"
   ]
  },
  {
   "cell_type": "code",
   "execution_count": 27,
   "id": "3dac9fe2",
   "metadata": {},
   "outputs": [
    {
     "data": {
      "text/plain": [
       "array([ 8308.9455758 ,  2330.0212412 ,  2206.25909362, 31719.86618287,\n",
       "       32611.39324942, 12202.03977174,  2806.88171652,  1916.74612697,\n",
       "        9402.48538045,  3728.29747773,  5230.69814174, 12756.24096362,\n",
       "       27121.91572063, 15980.86105206,  4334.1776858 , 28869.5496813 ,\n",
       "       16414.99970704, 11455.51539069, 33655.52825597, 31762.764418  ,\n",
       "        9434.37700437, 30963.66145638, 10802.12378799,  7512.54505625,\n",
       "        6938.28912556, 10626.67280257, 34213.81769772,  6178.71619922,\n",
       "       37600.49262448, 14948.28080545,  9375.69228259, 39388.07766675,\n",
       "       37595.24964862, 12844.1481667 ,  3510.35296249, 12213.63371253,\n",
       "       30957.16450287, 34160.31853638, 10957.78694847, 12455.88646886,\n",
       "        6427.59049302, 11730.96391784, 11651.86015964,  7230.00158368,\n",
       "        7953.3816531 ,  5339.24076435, 12133.0585674 ,  6301.19204936,\n",
       "       10075.01250395, 12319.279819  , 10223.51262037,  7801.73777648,\n",
       "        3464.72718966,  8684.96035731,  4356.19059992, 25972.42966434,\n",
       "        7044.38793347,  7902.99751967,  1979.50719323,  9596.94346801,\n",
       "        2451.00804043, 36385.79974405, 26077.78071408,  2952.87502458,\n",
       "        5503.62064159, 11414.67064229, 32758.65793573,  3201.71939423,\n",
       "        7905.20896302,  8815.86597726,  9052.66556589,  3263.55234729,\n",
       "       11052.65305649, 12642.55081244, 15155.17833518, -1330.16378041,\n",
       "       26547.0186769 ,  7167.78560946,  5675.6356546 ,  2134.67568013,\n",
       "       10507.17978869,  -331.83875262, 14500.1138284 ,  3506.91166417,\n",
       "       10272.59549428, 30566.78733775,  5679.27863937,  8393.96794921,\n",
       "       12053.20387154, 12635.39711244, 28692.51959476,  7934.8365985 ,\n",
       "        2478.32856637,  4629.15892279, 13881.06399661, 37859.95367661,\n",
       "        8984.35509044,  8340.02029006, 14391.30094313,  9066.41764418,\n",
       "        6657.61196647, 37298.97866929, 15675.48519436, 11090.41810697,\n",
       "       26311.36456428, 14688.84073938, 15780.62746664, 14533.87814459,\n",
       "        9430.35573288,  8311.44963734,  2823.02280193,  9682.32535808,\n",
       "        5047.83213173, 27600.92871543,  4704.701982  , 11079.21856394,\n",
       "        2735.17660644, 26561.06284461, 10276.82669221,  2362.69090222,\n",
       "       38373.18753992, 31767.57926394,  8513.71931834,  5368.38913719,\n",
       "        6344.47033835,  6104.28478777,  3754.91385251, 11039.70655415,\n",
       "       36472.10231098,  5072.59830407,  7897.81160444,  7904.63815046,\n",
       "        9079.6138291 ,  7633.2221021 , -1957.66254772,   551.20564627,\n",
       "       30854.70722088, 11923.46732149,  7098.44856332, 33787.0647593 ,\n",
       "        4452.04648981, 11190.84239295, 10326.95091545, 11601.5600969 ,\n",
       "        8107.99340594, 11617.69157284,  9483.18992392,  6886.43506405,\n",
       "        1927.05217249, 18274.2088025 , 14684.09906511,  5782.1978263 ,\n",
       "        9600.48574226, 10734.31741214, 33930.64387055, 11962.47497301,\n",
       "       32955.01537083, 14521.52516513,  5452.90103426, 11341.78326738,\n",
       "       36048.7390893 ,  3537.04016653, 15617.17414766, 26146.54092366,\n",
       "        1954.37269842, 14791.83231051, 38338.65603445, 13081.11876632,\n",
       "       36142.03756891,  7464.88846053,  8081.60041794, 15229.58552785,\n",
       "        3458.95019007,    93.97739788,  2764.22408328, 12473.13026395,\n",
       "       14581.98744177, 15708.0534306 ,  8906.85646375, 11096.42021759,\n",
       "        3611.83781671, 10955.93426462,  9184.45954293, 13615.63124593,\n",
       "        4404.26704852, 36226.12090136, 25467.71468223, 38921.71908489,\n",
       "         694.79139967, 36021.56239499,  3085.65745105,  6511.1791519 ,\n",
       "       30608.63041047,  2820.22531854,  2823.02280193, 16685.75919438,\n",
       "       38131.97613291, 16366.95947198, 10993.4737552 , 32590.66366543,\n",
       "       29576.48187924, 15400.28634979, 30133.20515142, 13945.92401313,\n",
       "         346.30905817,  3374.83941284, 14686.97610365, 26881.25772558,\n",
       "       13228.09738721, 12510.54690896, -1485.34634581, 10838.39952215,\n",
       "       12743.40146119,  9955.77696377, 10614.04671595,  8426.36132358,\n",
       "       13511.66636346,  5243.68188177, 10557.85986241,  5062.05218544,\n",
       "       36441.34048672,  2607.86439348, 11984.12071161,  6777.24075544,\n",
       "        9195.64947649, 13110.63187616, 14693.5873174 ,  1890.05892293,\n",
       "       19062.41900718, 13970.22159188, 16306.55700075,  9530.59710248,\n",
       "        6853.47579501, 14144.20336349,  4374.90405769, 27963.03895723,\n",
       "       13884.23400814, 13718.35618276, 10955.28731308, 16203.7055864 ,\n",
       "       10880.95714296, 12352.65509003,  5855.14053959, 31421.30088295,\n",
       "       12584.75409295, 27322.45250665,  7959.77727793, 12710.05252883,\n",
       "        5586.86940041,  6749.4606205 ,  7795.53494291,   436.30803854,\n",
       "        4784.58603034, 10567.88546053,  5216.34036976,  8385.9065039 ,\n",
       "        6520.48625495,  7028.28925491,  5950.62328319, 11800.46533281,\n",
       "       10109.01516899,  5224.98785512])"
      ]
     },
     "execution_count": 27,
     "metadata": {},
     "output_type": "execute_result"
    }
   ],
   "source": [
    "#Prediction\n",
    "y_pred =model.predict(X_test)\n",
    "y_pred"
   ]
  },
  {
   "cell_type": "code",
   "execution_count": 29,
   "id": "f0d2b415",
   "metadata": {},
   "outputs": [
    {
     "data": {
      "text/plain": [
       "array([ 4518.82625, 18955.22017,  2395.17155, 22331.5668 , 24520.264  ,\n",
       "       12638.195  ,  1769.53165,  2352.96845,  5729.0053 ,  1725.5523 ,\n",
       "        5209.57885, 10594.2257 , 34617.84065, 16455.70785,  4428.88785,\n",
       "       19719.6947 , 14235.072  ,  8124.4084 , 40974.1649 , 21659.9301 ,\n",
       "       15828.82173, 21195.818  , 10436.096  ,  5375.038  ,  5910.944  ,\n",
       "        7639.41745, 41676.0811 ,  7133.9025 , 46599.1084 , 28287.89766,\n",
       "       10197.7722 , 48970.2476 , 45702.02235, 11187.6567 ,  2639.0429 ,\n",
       "       28476.73499, 21774.32215, 24915.22085,  5124.1887 ,  9964.06   ,\n",
       "        4438.2634 ,  5846.9176 , 10264.4421 ,  4922.9159 ,  5246.047  ,\n",
       "        4415.1588 , 10407.08585,  5152.134  ,  8551.347  , 19144.57652,\n",
       "        8606.2174 ,  6555.07035,  2789.0574 ,  5979.731  ,  5458.04645,\n",
       "       15006.57945,  6414.178  ,  5425.02335,  2331.519  ,  6289.7549 ,\n",
       "        2155.6815 , 43813.8661 , 17560.37975,  1261.442  ,  3659.346  ,\n",
       "        9630.397  , 40103.89   ,  2690.1138 ,  5976.8311 ,  8026.6666 ,\n",
       "       26140.3603 , 11482.63485, 27346.04207,  7448.40395, 12265.5069 ,\n",
       "        1242.26   , 17496.306  ,  5478.0368 ,  3021.80915,  3353.4703 ,\n",
       "        7160.094  ,  1625.43375, 12347.172  ,  5116.5004 ,  8930.93455,\n",
       "       22144.032  ,  5002.7827 ,  7153.5539 , 11658.11505,  9386.1613 ,\n",
       "       36197.699  ,  5327.40025,  1622.1885 , 14133.03775, 10601.412  ,\n",
       "       47055.5321 ,  4762.329  ,  6849.026  , 14007.222  ,  5584.3057 ,\n",
       "        6198.7518 , 46200.9851 ,  9549.5651 ,  7443.64305, 18223.4512 ,\n",
       "        8569.8618 , 20709.02034, 13974.45555,  5934.3798 ,  9855.1314 ,\n",
       "        1639.5631 ,  2927.0647 ,  4234.927  , 36307.7983 , 27724.28875,\n",
       "       11165.41765,  3206.49135, 16138.76205,  8310.83915,  1719.4363 ,\n",
       "       46130.5265 , 23065.4207 ,  3989.841  ,  1146.7966 , 18157.876  ,\n",
       "       20420.60465,  2020.177  ,  7160.3303 , 45863.205  ,  2855.43755,\n",
       "        7050.642  ,  7419.4779 ,  8233.0975 ,  5148.5526 ,  1727.785  ,\n",
       "        1515.3449 , 20984.0936 , 11735.87905,  6123.5688 , 41661.602  ,\n",
       "        3645.0894 ,  9288.0267 , 12029.2867 , 12044.342  ,  6185.3208 ,\n",
       "       13129.60345,  5138.2567 ,  9264.797  ,  1664.9996 , 16085.1275 ,\n",
       "       13143.33665, 11737.84884,  7256.7231 ,  8162.71625, 24106.91255,\n",
       "       11015.1747 , 40932.4295 , 14043.4767 ,  5125.2157 , 11931.12525,\n",
       "       44423.803  , 12609.88702, 12981.3457 , 17043.3414 ,  1131.5066 ,\n",
       "        9704.66805, 48824.45   , 13770.0979 , 43921.1837 , 19442.3535 ,\n",
       "       17128.42608, 13887.204  ,  3046.062  ,  1964.78   ,  3484.331  ,\n",
       "       10601.63225, 36910.60803, 12950.0712 ,  8601.3293 , 11729.6795 ,\n",
       "        4827.90495, 10704.47   , 28340.18885, 13429.0354 ,  2254.7967 ,\n",
       "       46113.511  , 15817.9857 , 48673.5588 ,  1704.5681 , 43254.41795,\n",
       "       22493.65964,  6686.4313 , 19798.05455,  1906.35825,  1639.5631 ,\n",
       "       13405.3903 , 30184.9367 , 15612.19335, 13451.122  , 39727.614  ,\n",
       "       19444.2658 , 13887.9685 , 37829.7242 , 21797.0004 ,  1628.4709 ,\n",
       "        2523.1695 , 11436.73815, 34303.1672 ,  6356.2707 , 11848.141  ,\n",
       "        1241.565  ,  7727.2532 , 13047.33235,  7445.918  ,  9724.53   ,\n",
       "        7337.748  , 14001.1338 ,  1634.5734 , 22192.43711,  2404.7338 ,\n",
       "       45008.9555 ,  3594.17085,  9144.565  ,  4349.462  ,  6112.35295,\n",
       "       10560.4917 , 12979.358  ,  2045.68525, 15555.18875, 11488.31695,\n",
       "       12574.049  ,  7537.1639 ,  1837.2819 , 11264.541  ,  1532.4697 ,\n",
       "       19107.7796 , 11945.1327 ,  6435.6237 ,  5662.225  , 15161.5344 ,\n",
       "       10594.50155,  9722.7695 ,  4454.40265, 38415.474  , 28468.91901,\n",
       "       18310.742  ,  7985.815  , 19496.71917,  2322.6218 ,  7045.499  ,\n",
       "        5373.36425,  2103.08   ,  1534.3045 ,  8413.46305,  3972.9247 ,\n",
       "        8252.2843 ,  4889.0368 ,  8428.0693 ,  3877.30425,  8823.98575,\n",
       "        5428.7277 ,  1986.9334 ])"
      ]
     },
     "execution_count": 29,
     "metadata": {},
     "output_type": "execute_result"
    }
   ],
   "source": [
    "y_test.values  #converts series data to array"
   ]
  },
  {
   "cell_type": "code",
   "execution_count": 41,
   "id": "3164d889",
   "metadata": {},
   "outputs": [
    {
     "ename": "ValueError",
     "evalue": "continuous is not supported",
     "output_type": "error",
     "traceback": [
      "\u001b[1;31m---------------------------------------------------------------------------\u001b[0m",
      "\u001b[1;31mValueError\u001b[0m                                Traceback (most recent call last)",
      "\u001b[1;32m~\\AppData\\Local\\Temp\\ipykernel_2712\\1942729468.py\u001b[0m in \u001b[0;36m<module>\u001b[1;34m\u001b[0m\n\u001b[0;32m      1\u001b[0m \u001b[1;31m#Error =actual - Predicted\u001b[0m\u001b[1;33m\u001b[0m\u001b[1;33m\u001b[0m\u001b[0m\n\u001b[0;32m      2\u001b[0m \u001b[1;32mfrom\u001b[0m \u001b[0msklearn\u001b[0m\u001b[1;33m.\u001b[0m\u001b[0mmetrics\u001b[0m \u001b[1;32mimport\u001b[0m \u001b[0mconfusion_matrix\u001b[0m\u001b[1;33m\u001b[0m\u001b[1;33m\u001b[0m\u001b[0m\n\u001b[1;32m----> 3\u001b[1;33m \u001b[0mconfusion_matrix\u001b[0m\u001b[1;33m(\u001b[0m\u001b[0my_test\u001b[0m\u001b[1;33m,\u001b[0m\u001b[0my_pred\u001b[0m\u001b[1;33m)\u001b[0m\u001b[1;33m\u001b[0m\u001b[1;33m\u001b[0m\u001b[0m\n\u001b[0m",
      "\u001b[1;32m~\\anaconda3\\lib\\site-packages\\sklearn\\metrics\\_classification.py\u001b[0m in \u001b[0;36mconfusion_matrix\u001b[1;34m(y_true, y_pred, labels, sample_weight, normalize)\u001b[0m\n\u001b[0;32m    305\u001b[0m     \u001b[1;33m(\u001b[0m\u001b[1;36m0\u001b[0m\u001b[1;33m,\u001b[0m \u001b[1;36m2\u001b[0m\u001b[1;33m,\u001b[0m \u001b[1;36m1\u001b[0m\u001b[1;33m,\u001b[0m \u001b[1;36m1\u001b[0m\u001b[1;33m)\u001b[0m\u001b[1;33m\u001b[0m\u001b[1;33m\u001b[0m\u001b[0m\n\u001b[0;32m    306\u001b[0m     \"\"\"\n\u001b[1;32m--> 307\u001b[1;33m     \u001b[0my_type\u001b[0m\u001b[1;33m,\u001b[0m \u001b[0my_true\u001b[0m\u001b[1;33m,\u001b[0m \u001b[0my_pred\u001b[0m \u001b[1;33m=\u001b[0m \u001b[0m_check_targets\u001b[0m\u001b[1;33m(\u001b[0m\u001b[0my_true\u001b[0m\u001b[1;33m,\u001b[0m \u001b[0my_pred\u001b[0m\u001b[1;33m)\u001b[0m\u001b[1;33m\u001b[0m\u001b[1;33m\u001b[0m\u001b[0m\n\u001b[0m\u001b[0;32m    308\u001b[0m     \u001b[1;32mif\u001b[0m \u001b[0my_type\u001b[0m \u001b[1;32mnot\u001b[0m \u001b[1;32min\u001b[0m \u001b[1;33m(\u001b[0m\u001b[1;34m\"binary\"\u001b[0m\u001b[1;33m,\u001b[0m \u001b[1;34m\"multiclass\"\u001b[0m\u001b[1;33m)\u001b[0m\u001b[1;33m:\u001b[0m\u001b[1;33m\u001b[0m\u001b[1;33m\u001b[0m\u001b[0m\n\u001b[0;32m    309\u001b[0m         \u001b[1;32mraise\u001b[0m \u001b[0mValueError\u001b[0m\u001b[1;33m(\u001b[0m\u001b[1;34m\"%s is not supported\"\u001b[0m \u001b[1;33m%\u001b[0m \u001b[0my_type\u001b[0m\u001b[1;33m)\u001b[0m\u001b[1;33m\u001b[0m\u001b[1;33m\u001b[0m\u001b[0m\n",
      "\u001b[1;32m~\\anaconda3\\lib\\site-packages\\sklearn\\metrics\\_classification.py\u001b[0m in \u001b[0;36m_check_targets\u001b[1;34m(y_true, y_pred)\u001b[0m\n\u001b[0;32m    102\u001b[0m     \u001b[1;31m# No metrics support \"multiclass-multioutput\" format\u001b[0m\u001b[1;33m\u001b[0m\u001b[1;33m\u001b[0m\u001b[0m\n\u001b[0;32m    103\u001b[0m     \u001b[1;32mif\u001b[0m \u001b[0my_type\u001b[0m \u001b[1;32mnot\u001b[0m \u001b[1;32min\u001b[0m \u001b[1;33m[\u001b[0m\u001b[1;34m\"binary\"\u001b[0m\u001b[1;33m,\u001b[0m \u001b[1;34m\"multiclass\"\u001b[0m\u001b[1;33m,\u001b[0m \u001b[1;34m\"multilabel-indicator\"\u001b[0m\u001b[1;33m]\u001b[0m\u001b[1;33m:\u001b[0m\u001b[1;33m\u001b[0m\u001b[1;33m\u001b[0m\u001b[0m\n\u001b[1;32m--> 104\u001b[1;33m         \u001b[1;32mraise\u001b[0m \u001b[0mValueError\u001b[0m\u001b[1;33m(\u001b[0m\u001b[1;34m\"{0} is not supported\"\u001b[0m\u001b[1;33m.\u001b[0m\u001b[0mformat\u001b[0m\u001b[1;33m(\u001b[0m\u001b[0my_type\u001b[0m\u001b[1;33m)\u001b[0m\u001b[1;33m)\u001b[0m\u001b[1;33m\u001b[0m\u001b[1;33m\u001b[0m\u001b[0m\n\u001b[0m\u001b[0;32m    105\u001b[0m \u001b[1;33m\u001b[0m\u001b[0m\n\u001b[0;32m    106\u001b[0m     \u001b[1;32mif\u001b[0m \u001b[0my_type\u001b[0m \u001b[1;32min\u001b[0m \u001b[1;33m[\u001b[0m\u001b[1;34m\"binary\"\u001b[0m\u001b[1;33m,\u001b[0m \u001b[1;34m\"multiclass\"\u001b[0m\u001b[1;33m]\u001b[0m\u001b[1;33m:\u001b[0m\u001b[1;33m\u001b[0m\u001b[1;33m\u001b[0m\u001b[0m\n",
      "\u001b[1;31mValueError\u001b[0m: continuous is not supported"
     ]
    }
   ],
   "source": [
    "#Error =actual - Predicted\n",
    "from sklearn.metrics import confusion_matrix\n",
    "confusion_matrix(y_test,y_pred)"
   ]
  },
  {
   "cell_type": "markdown",
   "id": "ed7e7a86",
   "metadata": {},
   "source": [
    "# Error Measurement: MAE, MSE, RMSE"
   ]
  },
  {
   "cell_type": "markdown",
   "id": "a7266ad3",
   "metadata": {},
   "source": [
    "# Performance measurement :Goodness of model\n",
    "#r2_score,adjusted_r2_score [0,1]    "
   ]
  },
  {
   "cell_type": "code",
   "execution_count": 33,
   "id": "41bf8440",
   "metadata": {},
   "outputs": [],
   "source": [
    "from sklearn.metrics import mean_absolute_error,mean_squared_error,r2_score"
   ]
  },
  {
   "cell_type": "code",
   "execution_count": 34,
   "id": "3ee6dac2",
   "metadata": {},
   "outputs": [
    {
     "name": "stdout",
     "output_type": "stream",
     "text": [
      "MAE :  4231.762899593368\n"
     ]
    }
   ],
   "source": [
    "#MAE\n",
    "print('MAE : ',mean_absolute_error(y_test,y_pred))"
   ]
  },
  {
   "cell_type": "code",
   "execution_count": 36,
   "id": "2b5df8fe",
   "metadata": {},
   "outputs": [
    {
     "name": "stdout",
     "output_type": "stream",
     "text": [
      "MSE : 36294372.90811952\n"
     ]
    }
   ],
   "source": [
    "#MSE\n",
    "print('MSE :' ,mean_squared_error(y_test,y_pred))"
   ]
  },
  {
   "cell_type": "code",
   "execution_count": 38,
   "id": "7e31281a",
   "metadata": {},
   "outputs": [
    {
     "name": "stdout",
     "output_type": "stream",
     "text": [
      "RMSE : 6024.481131858537\n"
     ]
    }
   ],
   "source": [
    "#RMSE\n",
    "print('RMSE :',np.sqrt(mean_squared_error(y_test,y_pred)))"
   ]
  },
  {
   "cell_type": "code",
   "execution_count": 40,
   "id": "72a26577",
   "metadata": {},
   "outputs": [
    {
     "data": {
      "text/plain": [
       "75.08986670337494"
      ]
     },
     "execution_count": 40,
     "metadata": {},
     "output_type": "execute_result"
    }
   ],
   "source": [
    "#check model performance\n",
    "r2_score(y_test,y_pred)*100"
   ]
  },
  {
   "cell_type": "code",
   "execution_count": 43,
   "id": "57aa99de",
   "metadata": {},
   "outputs": [
    {
     "name": "stdout",
     "output_type": "stream",
     "text": [
      "Adjusted R-squared score : 0.7450374591992495\n"
     ]
    }
   ],
   "source": [
    "def adjusted_r2_score(y_true,y_pred,n_samples,n_features):\n",
    "    #from sklearn.metrics import r2_score\n",
    "    \n",
    "    #calculate R-squared\n",
    "    r2= r2_score(y_true,y_pred)\n",
    "    \n",
    "    #Calculate adjusted R-squared\n",
    "    adjusted_r2 = 1 - ((1 - r2) * (n_samples - 1) / (n_samples - n_features - 1))\n",
    "\n",
    "    return adjusted_r2\n",
    "\n",
    "# Assuming y_test contains the true target values and y_pred contains the predicted target values\n",
    "# Calculate the number of samples and features\n",
    "\n",
    "n_samples=len(y_test)\n",
    "n_features =X_test.shape[1] #assume X_test is feature matrix\n",
    "\n",
    "#Calculate adjusted r squared score\n",
    "adjusted_r2= adjusted_r2_score(y_test,y_pred,n_samples,n_features)\n",
    "\n",
    "print(\"Adjusted R-squared score :\" ,adjusted_r2)"
   ]
  },
  {
   "cell_type": "code",
   "execution_count": null,
   "id": "876fcefd",
   "metadata": {},
   "outputs": [],
   "source": []
  }
 ],
 "metadata": {
  "kernelspec": {
   "display_name": "Python 3 (ipykernel)",
   "language": "python",
   "name": "python3"
  },
  "language_info": {
   "codemirror_mode": {
    "name": "ipython",
    "version": 3
   },
   "file_extension": ".py",
   "mimetype": "text/x-python",
   "name": "python",
   "nbconvert_exporter": "python",
   "pygments_lexer": "ipython3",
   "version": "3.9.13"
  }
 },
 "nbformat": 4,
 "nbformat_minor": 5
}
